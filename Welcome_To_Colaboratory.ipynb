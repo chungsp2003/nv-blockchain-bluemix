{
  "nbformat": 4,
  "nbformat_minor": 0,
  "metadata": {
    "colab": {
      "name": "Welcome To Colaboratory",
      "provenance": [],
      "collapsed_sections": [],
      "toc_visible": true,
      "include_colab_link": true
    },
    "kernelspec": {
      "display_name": "Python 3",
      "name": "python3"
    }
  },
  "cells": [
    {
      "cell_type": "markdown",
      "metadata": {
        "id": "view-in-github",
        "colab_type": "text"
      },
      "source": [
        "<a href=\"https://colab.research.google.com/github/chungsp2003/nv-blockchain-bluemix/blob/master/Welcome_To_Colaboratory.ipynb\" target=\"_parent\"><img src=\"https://colab.research.google.com/assets/colab-badge.svg\" alt=\"Open In Colab\"/></a>"
      ]
    },
    {
      "cell_type": "code",
      "metadata": {
        "id": "cEaahE95EH8f",
        "colab_type": "code",
        "colab": {}
      },
      "source": [
        "import torch.nn as nn\n",
        "import torch.nn.functional as F\n",
        "class Critic(nn.Module):\n",
        "      def __init__(self):\n",
        "          suprt().__init__()\n",
        "          self.linear1 = nn.Linear(30*2, 150)\n",
        "          self.linear2 = nn.Linear(150, 150)\n",
        "          self.linear3 = nn.Linear(30*2, 150)\n",
        "          self.linear4 = nn.Linear(30*2, 150)\n",
        "          "
      ],
      "execution_count": 0,
      "outputs": []
    }
  ]
}